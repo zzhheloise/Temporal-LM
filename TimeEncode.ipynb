{
 "cells": [
  {
   "cell_type": "code",
   "execution_count": 45,
   "id": "6eaf50b6",
   "metadata": {},
   "outputs": [],
   "source": [
    "import numpy as np"
   ]
  },
  {
   "cell_type": "code",
   "execution_count": 46,
   "id": "19f6acf3",
   "metadata": {},
   "outputs": [
    {
     "name": "stdout",
     "output_type": "stream",
     "text": [
      "[1980, 1981, 1982, 1983, 1984, 1985, 1986, 1987, 1988, 1989, 1990, 1991, 1992, 1993, 1994, 1995, 1996, 1997, 1998, 1999, 2000, 2001, 2002, 2003, 2004, 2005, 2006, 2007, 2008, 2009, 2010]\n"
     ]
    }
   ],
   "source": [
    "time =  [i for i in range(1980,2011)]\n",
    "print(time)\n"
   ]
  },
  {
   "cell_type": "code",
   "execution_count": 47,
   "id": "30a275d5",
   "metadata": {},
   "outputs": [
    {
     "name": "stdout",
     "output_type": "stream",
     "text": [
      "int: 10; hex: a; oct: 12; bin: 1010\n"
     ]
    }
   ],
   "source": [
    "result = \"int: {0:d}; hex: {0:x}; oct: {0:o}; bin: {0:b}\".format(10)\n",
    "print(result)"
   ]
  },
  {
   "cell_type": "code",
   "execution_count": 48,
   "id": "427c800b",
   "metadata": {},
   "outputs": [],
   "source": [
    "# for i in time:\n",
    "#     print(bin(i-1980))"
   ]
  },
  {
   "cell_type": "code",
   "execution_count": 68,
   "id": "5a2f1103",
   "metadata": {},
   "outputs": [],
   "source": [
    "def encodeTime(num):\n",
    "    \"\"\"\n",
    "        Endcode time to quaternary， then all time are encoded into 3 bits\n",
    "    \"\"\"\n",
    "    l = []\n",
    "    if num < 0:\n",
    "        return '-' + dec2thr(abs(num))\n",
    "    while True:\n",
    "        num, remainder = divmod(num, 4)\n",
    "        l.append(str(remainder))\n",
    "        if num == 0:\n",
    "            return ''.join(l[::-1])"
   ]
  },
  {
   "cell_type": "code",
   "execution_count": 69,
   "id": "6e28cf7f",
   "metadata": {},
   "outputs": [
    {
     "data": {
      "text/plain": [
       "'22'"
      ]
     },
     "execution_count": 69,
     "metadata": {},
     "output_type": "execute_result"
    }
   ],
   "source": [
    "encodeTime(10)"
   ]
  },
  {
   "cell_type": "code",
   "execution_count": 70,
   "id": "51c65c23",
   "metadata": {},
   "outputs": [
    {
     "name": "stdout",
     "output_type": "stream",
     "text": [
      "['000', '001', '002', '003', '010', '011', '012', '013', '020', '021', '022', '023', '030', '031', '032', '033', '100', '101', '102', '103', '110', '111', '112', '113', '120', '121', '122', '123', '130', '131', '132']\n"
     ]
    }
   ],
   "source": [
    "min_time = min(time)\n",
    "# max_time = max(time)\n",
    "norm_time = (np.array(time) - min_time).tolist()\n",
    "fill_len = len(encodeTime(max(norm_time)))\n",
    "# print(fill_len)\n",
    "encode_time = []\n",
    "\n",
    "for i in norm_time:    \n",
    "    encode_temp = encodeTime(i)\n",
    "    length = len(encode_temp)\n",
    "    if length <  fill_len:\n",
    "        pad_len= fill_len - length\n",
    "        encode_temp = '0'* pad_len + encode_temp\n",
    "    encode_time.append(encode_temp)\n",
    "    \n",
    "print(encode_time)"
   ]
  },
  {
   "cell_type": "code",
   "execution_count": null,
   "id": "fa30bb8d",
   "metadata": {},
   "outputs": [],
   "source": []
  }
 ],
 "metadata": {
  "kernelspec": {
   "display_name": "Python 3 (ipykernel)",
   "language": "python",
   "name": "python3"
  },
  "language_info": {
   "codemirror_mode": {
    "name": "ipython",
    "version": 3
   },
   "file_extension": ".py",
   "mimetype": "text/x-python",
   "name": "python",
   "nbconvert_exporter": "python",
   "pygments_lexer": "ipython3",
   "version": "3.9.12"
  }
 },
 "nbformat": 4,
 "nbformat_minor": 5
}
